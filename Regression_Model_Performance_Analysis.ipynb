{
  "cells": [
    {
      "cell_type": "code",
      "execution_count": 1,
      "metadata": {
        "colab": {
          "base_uri": "https://localhost:8080/"
        },
        "collapsed": true,
        "id": "cKfwsuw8T76u",
        "outputId": "567c8c2f-4449-43a6-a8db-767514a8231f"
      },
      "outputs": [
        {
          "name": "stdout",
          "output_type": "stream",
          "text": [
            "Collecting xgboost\n",
            "  Downloading xgboost-2.1.1-py3-none-manylinux_2_28_x86_64.whl.metadata (2.1 kB)\n",
            "Collecting lightgbm\n",
            "  Downloading lightgbm-4.5.0-py3-none-manylinux_2_28_x86_64.whl.metadata (17 kB)\n",
            "Collecting catboost\n",
            "  Downloading catboost-1.2.7-cp312-cp312-manylinux2014_x86_64.whl.metadata (1.2 kB)\n",
            "Requirement already satisfied: numpy in /usr/local/python/3.12.1/lib/python3.12/site-packages (from xgboost) (1.26.4)\n",
            "Collecting nvidia-nccl-cu12 (from xgboost)\n",
            "  Downloading nvidia_nccl_cu12-2.23.4-py3-none-manylinux2014_x86_64.whl.metadata (1.8 kB)\n",
            "Requirement already satisfied: scipy in /home/codespace/.local/lib/python3.12/site-packages (from xgboost) (1.14.0)\n",
            "Collecting graphviz (from catboost)\n",
            "  Downloading graphviz-0.20.3-py3-none-any.whl.metadata (12 kB)\n",
            "Requirement already satisfied: matplotlib in /home/codespace/.local/lib/python3.12/site-packages (from catboost) (3.9.2)\n",
            "Requirement already satisfied: pandas>=0.24 in /home/codespace/.local/lib/python3.12/site-packages (from catboost) (2.2.2)\n",
            "Requirement already satisfied: plotly in /home/codespace/.local/lib/python3.12/site-packages (from catboost) (5.23.0)\n",
            "Requirement already satisfied: six in /home/codespace/.local/lib/python3.12/site-packages (from catboost) (1.16.0)\n",
            "Requirement already satisfied: python-dateutil>=2.8.2 in /home/codespace/.local/lib/python3.12/site-packages (from pandas>=0.24->catboost) (2.9.0.post0)\n",
            "Requirement already satisfied: pytz>=2020.1 in /home/codespace/.local/lib/python3.12/site-packages (from pandas>=0.24->catboost) (2024.1)\n",
            "Requirement already satisfied: tzdata>=2022.7 in /home/codespace/.local/lib/python3.12/site-packages (from pandas>=0.24->catboost) (2024.1)\n",
            "Requirement already satisfied: contourpy>=1.0.1 in /home/codespace/.local/lib/python3.12/site-packages (from matplotlib->catboost) (1.2.1)\n",
            "Requirement already satisfied: cycler>=0.10 in /home/codespace/.local/lib/python3.12/site-packages (from matplotlib->catboost) (0.12.1)\n",
            "Requirement already satisfied: fonttools>=4.22.0 in /home/codespace/.local/lib/python3.12/site-packages (from matplotlib->catboost) (4.53.1)\n",
            "Requirement already satisfied: kiwisolver>=1.3.1 in /home/codespace/.local/lib/python3.12/site-packages (from matplotlib->catboost) (1.4.5)\n",
            "Requirement already satisfied: packaging>=20.0 in /home/codespace/.local/lib/python3.12/site-packages (from matplotlib->catboost) (24.1)\n",
            "Requirement already satisfied: pillow>=8 in /home/codespace/.local/lib/python3.12/site-packages (from matplotlib->catboost) (10.4.0)\n",
            "Requirement already satisfied: pyparsing>=2.3.1 in /home/codespace/.local/lib/python3.12/site-packages (from matplotlib->catboost) (3.1.2)\n",
            "Requirement already satisfied: tenacity>=6.2.0 in /home/codespace/.local/lib/python3.12/site-packages (from plotly->catboost) (9.0.0)\n",
            "Downloading xgboost-2.1.1-py3-none-manylinux_2_28_x86_64.whl (153.9 MB)\n",
            "\u001b[2K   \u001b[90m━━━━━━━━━━━━━━━━━━━━━━━━━━━━━━━━━━━━━━━━\u001b[0m \u001b[32m153.9/153.9 MB\u001b[0m \u001b[31m22.6 MB/s\u001b[0m eta \u001b[36m0:00:00\u001b[0m00:01\u001b[0m00:01\u001b[0m\n",
            "\u001b[?25hDownloading lightgbm-4.5.0-py3-none-manylinux_2_28_x86_64.whl (3.6 MB)\n",
            "\u001b[2K   \u001b[90m━━━━━━━━━━━━━━━━━━━━━━━━━━━━━━━━━━━━━━━━\u001b[0m \u001b[32m3.6/3.6 MB\u001b[0m \u001b[31m15.1 MB/s\u001b[0m eta \u001b[36m0:00:00\u001b[0ma \u001b[36m0:00:01\u001b[0m\n",
            "\u001b[?25hDownloading catboost-1.2.7-cp312-cp312-manylinux2014_x86_64.whl (98.7 MB)\n",
            "\u001b[2K   \u001b[90m━━━━━━━━━━━━━━━━━━━━━━━━━━━━━━━━━━━━━━━━\u001b[0m \u001b[32m98.7/98.7 MB\u001b[0m \u001b[31m24.5 MB/s\u001b[0m eta \u001b[36m0:00:00\u001b[0m00:01\u001b[0m00:01\u001b[0m\n",
            "\u001b[?25hDownloading graphviz-0.20.3-py3-none-any.whl (47 kB)\n",
            "Downloading nvidia_nccl_cu12-2.23.4-py3-none-manylinux2014_x86_64.whl (199.0 MB)\n",
            "\u001b[2K   \u001b[90m━━━━━━━━━━━━━━━━━━━━━━━━━━━━━━━━━━━━━━━━\u001b[0m \u001b[32m199.0/199.0 MB\u001b[0m \u001b[31m21.6 MB/s\u001b[0m eta \u001b[36m0:00:00\u001b[0m00:01\u001b[0m00:01\u001b[0m\n",
            "\u001b[?25hInstalling collected packages: nvidia-nccl-cu12, graphviz, xgboost, lightgbm, catboost\n",
            "Successfully installed catboost-1.2.7 graphviz-0.20.3 lightgbm-4.5.0 nvidia-nccl-cu12-2.23.4 xgboost-2.1.1\n"
          ]
        }
      ],
      "source": [
        "!pip install xgboost lightgbm catboost"
      ]
    },
    {
      "cell_type": "code",
      "execution_count": 2,
      "metadata": {},
      "outputs": [
        {
          "name": "stdout",
          "output_type": "stream",
          "text": [
            "Requirement already satisfied: numpy in /usr/local/python/3.12.1/lib/python3.12/site-packages (1.26.4)\n",
            "Collecting numpy\n",
            "  Downloading numpy-2.1.1-cp312-cp312-manylinux_2_17_x86_64.manylinux2014_x86_64.whl.metadata (60 kB)\n",
            "Requirement already satisfied: catboost in /usr/local/python/3.12.1/lib/python3.12/site-packages (1.2.7)\n",
            "Requirement already satisfied: graphviz in /usr/local/python/3.12.1/lib/python3.12/site-packages (from catboost) (0.20.3)\n",
            "Requirement already satisfied: matplotlib in /home/codespace/.local/lib/python3.12/site-packages (from catboost) (3.9.2)\n",
            "Requirement already satisfied: pandas>=0.24 in /home/codespace/.local/lib/python3.12/site-packages (from catboost) (2.2.2)\n",
            "Requirement already satisfied: scipy in /home/codespace/.local/lib/python3.12/site-packages (from catboost) (1.14.0)\n",
            "Requirement already satisfied: plotly in /home/codespace/.local/lib/python3.12/site-packages (from catboost) (5.23.0)\n",
            "Requirement already satisfied: six in /home/codespace/.local/lib/python3.12/site-packages (from catboost) (1.16.0)\n",
            "Requirement already satisfied: python-dateutil>=2.8.2 in /home/codespace/.local/lib/python3.12/site-packages (from pandas>=0.24->catboost) (2.9.0.post0)\n",
            "Requirement already satisfied: pytz>=2020.1 in /home/codespace/.local/lib/python3.12/site-packages (from pandas>=0.24->catboost) (2024.1)\n",
            "Requirement already satisfied: tzdata>=2022.7 in /home/codespace/.local/lib/python3.12/site-packages (from pandas>=0.24->catboost) (2024.1)\n",
            "Requirement already satisfied: contourpy>=1.0.1 in /home/codespace/.local/lib/python3.12/site-packages (from matplotlib->catboost) (1.2.1)\n",
            "Requirement already satisfied: cycler>=0.10 in /home/codespace/.local/lib/python3.12/site-packages (from matplotlib->catboost) (0.12.1)\n",
            "Requirement already satisfied: fonttools>=4.22.0 in /home/codespace/.local/lib/python3.12/site-packages (from matplotlib->catboost) (4.53.1)\n",
            "Requirement already satisfied: kiwisolver>=1.3.1 in /home/codespace/.local/lib/python3.12/site-packages (from matplotlib->catboost) (1.4.5)\n",
            "Requirement already satisfied: packaging>=20.0 in /home/codespace/.local/lib/python3.12/site-packages (from matplotlib->catboost) (24.1)\n",
            "Requirement already satisfied: pillow>=8 in /home/codespace/.local/lib/python3.12/site-packages (from matplotlib->catboost) (10.4.0)\n",
            "Requirement already satisfied: pyparsing>=2.3.1 in /home/codespace/.local/lib/python3.12/site-packages (from matplotlib->catboost) (3.1.2)\n",
            "Requirement already satisfied: tenacity>=6.2.0 in /home/codespace/.local/lib/python3.12/site-packages (from plotly->catboost) (9.0.0)\n"
          ]
        }
      ],
      "source": [
        "!pip install --upgrade numpy catboost"
      ]
    },
    {
      "cell_type": "code",
      "execution_count": null,
      "metadata": {
        "colab": {
          "base_uri": "https://localhost:8080/"
        },
        "id": "Z9FrRFVYTCuw",
        "outputId": "0890bfad-b80d-48c4-8d93-b34090b6650c"
      },
      "outputs": [],
      "source": [
        "import time\n",
        "import numpy as np\n",
        "import pandas as pd\n",
        "from sklearn.datasets import fetch_california_housing\n",
        "from sklearn.model_selection import train_test_split\n",
        "from sklearn.metrics import mean_squared_error, r2_score\n",
        "from sklearn.linear_model import LinearRegression, Ridge, Lasso, ElasticNet, PassiveAggressiveRegressor, SGDRegressor, BayesianRidge, ARDRegression, HuberRegressor\n",
        "from sklearn.tree import DecisionTreeRegressor, ExtraTreeRegressor\n",
        "from sklearn.ensemble import RandomForestRegressor, GradientBoostingRegressor, AdaBoostRegressor, BaggingRegressor, HistGradientBoostingRegressor, ExtraTreesRegressor, StackingRegressor, VotingRegressor\n",
        "from sklearn.neighbors import KNeighborsRegressor\n",
        "from sklearn.svm import SVR\n",
        "from sklearn.neural_network import MLPRegressor\n",
        "from sklearn.linear_model import TheilSenRegressor, RANSACRegressor\n",
        "from xgboost import XGBRegressor\n",
        "from lightgbm import LGBMRegressor\n",
        "from catboost import CatBoostRegressor\n",
        "\n",
        "# Load dataset\n",
        "housing = fetch_california_housing()\n",
        "X = pd.DataFrame(housing.data, columns=housing.feature_names) # Use housing data\n",
        "y = pd.Series(housing.target)\n",
        "\n",
        "# Split dataset\n",
        "X_train, X_test, y_train, y_test = train_test_split(X, y, test_size=0.2, random_state=42)\n",
        "\n",
        "# List of regression models with optimized default parameters\n",
        "models = {\n",
        "    'LinearRegression': LinearRegression(n_jobs=-1),\n",
        "    'Ridge': Ridge(random_state=42),\n",
        "    'Lasso': Lasso(random_state=42),\n",
        "    'ElasticNet': ElasticNet(random_state=42),\n",
        "    'PassiveAggressiveRegressor': PassiveAggressiveRegressor(max_iter=1000, random_state=42),\n",
        "    'SGDRegressor': SGDRegressor(max_iter=1000, random_state=42),\n",
        "    'BayesianRidge': BayesianRidge(),\n",
        "    'ARDRegression': ARDRegression(),\n",
        "    'HuberRegressor': HuberRegressor(max_iter=1000),\n",
        "    'TheilSenRegressor': TheilSenRegressor(random_state=42),\n",
        "    'RANSACRegressor': RANSACRegressor(random_state=42),\n",
        "    'DecisionTreeRegressor': DecisionTreeRegressor(random_state=42),\n",
        "    'ExtraTreeRegressor': ExtraTreeRegressor(random_state=42),\n",
        "    'RandomForestRegressor': RandomForestRegressor(random_state=42, n_jobs=-1),\n",
        "    'ExtraTreesRegressor': ExtraTreesRegressor(random_state=42, n_jobs=-1),\n",
        "    'GradientBoostingRegressor': GradientBoostingRegressor(random_state=42),\n",
        "    'HistGradientBoostingRegressor': HistGradientBoostingRegressor(random_state=42),\n",
        "    'AdaBoostRegressor': AdaBoostRegressor(random_state=42),\n",
        "    'BaggingRegressor': BaggingRegressor(random_state=42, n_jobs=-1),\n",
        "    'KNeighborsRegressor': KNeighborsRegressor(n_jobs=-1),\n",
        "    'SVR': SVR(),\n",
        "    'MLPRegressor': MLPRegressor(max_iter=1000, random_state=42),\n",
        "    'XGBRegressor': XGBRegressor(use_label_encoder=False, eval_metric='rmse', random_state=42, n_jobs=-1),\n",
        "    'LGBMRegressor': LGBMRegressor(random_state=42, n_jobs=-1),\n",
        "    'CatBoostRegressor': CatBoostRegressor(verbose=0, random_state=42),\n",
        "    'StackingRegressor': StackingRegressor(estimators=[\n",
        "        ('lr', LinearRegression(n_jobs=-1)),\n",
        "        ('ridge', Ridge(random_state=42)),\n",
        "        ('lasso', Lasso(random_state=42))\n",
        "    ], final_estimator=RandomForestRegressor(random_state=42, n_jobs=-1)),\n",
        "    'VotingRegressor': VotingRegressor(estimators=[\n",
        "        ('lr', LinearRegression(n_jobs=-1)),\n",
        "        ('ridge', Ridge(random_state=42)),\n",
        "        ('lasso', Lasso(random_state=42))\n",
        "    ])\n",
        "}\n",
        "\n",
        "# Function to evaluate models\n",
        "def evaluate_model(model, X_train, X_test, y_train, y_test):\n",
        "    start_time = time.time()\n",
        "    model.fit(X_train, y_train)\n",
        "    train_time = time.time() - start_time\n",
        "\n",
        "    start_time = time.time()\n",
        "    y_pred = model.predict(X_test)\n",
        "    predict_time = time.time() - start_time\n",
        "\n",
        "    mse = mean_squared_error(y_test, y_pred)\n",
        "    rmse = np.sqrt(mse)\n",
        "    r2 = r2_score(y_test, y_pred)\n",
        "\n",
        "    return train_time, predict_time, mse, rmse, r2\n",
        "\n",
        "# Evaluate each model\n",
        "results = {}\n",
        "for name, model in models.items():\n",
        "    train_time, predict_time, mse, rmse, r2 = evaluate_model(model, X_train, X_test, y_train, y_test)\n",
        "    results[name] = {\n",
        "        'Train Time': train_time,\n",
        "        'Predict Time': predict_time,\n",
        "        'MSE': mse,\n",
        "        'RMSE': rmse,\n",
        "        'R2 Score': r2\n",
        "    }\n",
        "\n",
        "print('\\n')\n",
        "# Print results\n",
        "for name, metrics in results.items():\n",
        "    print(f\"{name}:\")\n",
        "    print(f\"  Train Time: {metrics['Train Time']:.4f} seconds\")\n",
        "    print(f\"  Predict Time: {metrics['Predict Time']:.4f} seconds\")\n",
        "    print(f\"  MSE: {metrics['MSE']:.4f}\")\n",
        "    print(f\"  RMSE: {metrics['RMSE']:.4f}\")\n",
        "    print(f\"  R2 Score: {metrics['R2 Score']:.4f}\")\n",
        "    print('\\n')"
      ]
    },
    {
      "cell_type": "markdown",
      "metadata": {
        "id": "zacnD7J4ZFJI"
      },
      "source": [
        "## Regression Algorithm Performance <br><br>\n",
        "\n",
        "\n",
        "\n",
        "| Metric       | Best Algorithm          | Best Value   | Worst Algorithm         | Worst Value   |\n",
        "|--------------|-------------------------|--------------|-------------------------|---------------|\n",
        "| Train Time   | LinearRegression        | 0.0042(s)       | RandomForestRegressor     | 8.5214(s)        |\n",
        "| Predict Time | PassiveAggressiveRegressor, SGDRegressor, Ridge & Lasso        | 0.0009(s)       | SVR            | 2.0201(s)       |\n",
        "| MSE          | CatBoostRegressor   | 0.1989     | SGDRegressor  | 31255986387106809012092403712.0\n",
        "| RMSE         | CatBoostRegressor   | 0.4460       | SGDRegressor  | 176793626545491.750\n",
        "| r2-Score     | CatBoostRegressor | 0.8482| SGDRegressor  | -23852085040706160132853071872.0      |\n",
        "\n"
      ]
    }
  ],
  "metadata": {
    "colab": {
      "provenance": []
    },
    "kernelspec": {
      "display_name": "Python 3 (ipykernel)",
      "language": "python",
      "name": "python3"
    },
    "language_info": {
      "codemirror_mode": {
        "name": "ipython",
        "version": 3
      },
      "file_extension": ".py",
      "mimetype": "text/x-python",
      "name": "python",
      "nbconvert_exporter": "python",
      "pygments_lexer": "ipython3",
      "version": "3.12.1"
    }
  },
  "nbformat": 4,
  "nbformat_minor": 0
}
